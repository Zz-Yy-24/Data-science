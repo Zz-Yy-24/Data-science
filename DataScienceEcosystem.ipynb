{
 "cells": [
  {
   "cell_type": "markdown",
   "id": "761068a3-8c45-4adc-9be6-00523b9b658c",
   "metadata": {},
   "source": [
    "# Data Science Tools and Ecosystem"
   ]
  },
  {
   "cell_type": "markdown",
   "id": "bf0aa6c4-927b-41c7-af99-7fdc863bce7f",
   "metadata": {},
   "source": [
    "#### In this notebook, Data Science Tools and Ecosystem are summarized.\n"
   ]
  },
  {
   "cell_type": "markdown",
   "id": "3ac44acf-8f7e-470e-a458-b0c9e2582bf9",
   "metadata": {},
   "source": [
    "### Some of the popular languages that Data Scientists use are:\n"
   ]
  },
  {
   "cell_type": "markdown",
   "id": "8c3bacb2-1903-4635-a6dc-311f0a145108",
   "metadata": {},
   "source": [
    "| 1 | 2 | 3 |\r\n",
    "|----------|----------|----------|\n",
    "| python | SQL | Julie |"
   ]
  },
  {
   "cell_type": "markdown",
   "id": "b97693d0-6571-4f31-a892-d194c45e84c0",
   "metadata": {},
   "source": [
    "#### Some of the commonly used libraries used by Data Scientists include:"
   ]
  },
  {
   "cell_type": "markdown",
   "id": "472a016a-47a0-4f72-9146-1d336b15f814",
   "metadata": {},
   "source": [
    "| 1 | 2 | 3 |\n",
    "|----------|----------|----------|\n",
    "| pandas | numpy | matplotlib |"
   ]
  },
  {
   "cell_type": "markdown",
   "id": "a8f251b1-ed8a-4e0b-b830-5e25b3fbb575",
   "metadata": {},
   "source": [
    "| Data Science Tools |\n",
    "|---------------------|\n",
    "| Jupyter Notebook    |\n",
    "| RStudio             |\n",
    "| Visual Studio Code  |"
   ]
  },
  {
   "cell_type": "markdown",
   "id": "89eb2601-1ba4-4f12-a82d-ff7f110bda3b",
   "metadata": {},
   "source": [
    "### Below are a few examples of evaluating arithmetic expressions in Python"
   ]
  },
  {
   "cell_type": "code",
   "execution_count": 4,
   "id": "5a1f2708-a3d1-4ccc-8a26-96f0c78a501c",
   "metadata": {},
   "outputs": [
    {
     "name": "stdout",
     "output_type": "stream",
     "text": [
      "17\n"
     ]
    }
   ],
   "source": [
    "#This a simple arithmetic expression to mutiply then add integers.\n",
    "print((3*4)+5)"
   ]
  },
  {
   "cell_type": "code",
   "execution_count": 5,
   "id": "a6043e50-4000-46e4-be93-f05f6f05d732",
   "metadata": {},
   "outputs": [
    {
     "name": "stdout",
     "output_type": "stream",
     "text": [
      "3.3333333333333335\n"
     ]
    }
   ],
   "source": [
    "#This will convert 200 minutes to hours by diving by 60.\n",
    "a=200\n",
    "b=200/60\n",
    "print(b)"
   ]
  },
  {
   "cell_type": "markdown",
   "id": "d1784683-eba6-44a2-b69c-65aa47bb1500",
   "metadata": {},
   "source": [
    "## Author\n",
    "Zhu Yi"
   ]
  },
  {
   "cell_type": "code",
   "execution_count": null,
   "id": "bb52088d-4589-4f93-9bea-39f12c64ec67",
   "metadata": {},
   "outputs": [],
   "source": []
  }
 ],
 "metadata": {
  "kernelspec": {
   "display_name": "Python 3 (ipykernel)",
   "language": "python",
   "name": "python3"
  },
  "language_info": {
   "codemirror_mode": {
    "name": "ipython",
    "version": 3
   },
   "file_extension": ".py",
   "mimetype": "text/x-python",
   "name": "python",
   "nbconvert_exporter": "python",
   "pygments_lexer": "ipython3",
   "version": "3.12.4"
  }
 },
 "nbformat": 4,
 "nbformat_minor": 5
}
